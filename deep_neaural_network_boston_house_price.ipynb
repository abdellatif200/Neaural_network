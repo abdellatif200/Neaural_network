{
 "cells": [
  {
   "cell_type": "markdown",
   "id": "83aa1422",
   "metadata": {},
   "source": [
    "# reconaissance des chifres manuscrits en utilisant un reseau de neurons formé de plusieurs couches cachées"
   ]
  },
  {
   "cell_type": "code",
   "execution_count": 1,
   "id": "03dd3b72",
   "metadata": {},
   "outputs": [],
   "source": [
    "import numpy as np\n",
    "import pandas as pd\n"
   ]
  },
  {
   "cell_type": "code",
   "execution_count": 2,
   "id": "ec84493c",
   "metadata": {},
   "outputs": [],
   "source": [
    "df = pd.read_csv('boston_house_prices.csv')"
   ]
  },
  {
   "cell_type": "code",
   "execution_count": 3,
   "id": "096d24ca",
   "metadata": {},
   "outputs": [
    {
     "data": {
      "text/plain": [
       "Index(['CRIM', 'ZN', 'INDUS', 'CHAS', 'NOX', 'RM', 'AGE', 'DIS', 'RAD', 'TAX',\n",
       "       'PTRATIO', 'B', 'LSTAT', 'MEDV'],\n",
       "      dtype='object')"
      ]
     },
     "execution_count": 3,
     "metadata": {},
     "output_type": "execute_result"
    }
   ],
   "source": [
    "df.columns"
   ]
  },
  {
   "cell_type": "code",
   "execution_count": 4,
   "id": "7ff9cf0b",
   "metadata": {},
   "outputs": [
    {
     "name": "stdout",
     "output_type": "stream",
     "text": [
      "<class 'pandas.core.frame.DataFrame'>\n"
     ]
    }
   ],
   "source": [
    "print(type(df))"
   ]
  },
  {
   "cell_type": "code",
   "execution_count": 5,
   "id": "b51a64fe",
   "metadata": {},
   "outputs": [],
   "source": [
    "df = np.array(df)"
   ]
  },
  {
   "cell_type": "code",
   "execution_count": 6,
   "id": "4f2c558d",
   "metadata": {},
   "outputs": [
    {
     "name": "stdout",
     "output_type": "stream",
     "text": [
      "<class 'numpy.ndarray'>\n"
     ]
    }
   ],
   "source": [
    "print(type(df))"
   ]
  },
  {
   "cell_type": "code",
   "execution_count": 7,
   "id": "6a10af42",
   "metadata": {},
   "outputs": [
    {
     "data": {
      "text/plain": [
       "(506, 14)"
      ]
     },
     "execution_count": 7,
     "metadata": {},
     "output_type": "execute_result"
    }
   ],
   "source": [
    "df.shape"
   ]
  },
  {
   "cell_type": "code",
   "execution_count": null,
   "id": "188680fb",
   "metadata": {},
   "outputs": [],
   "source": []
  },
  {
   "cell_type": "code",
   "execution_count": 8,
   "id": "e87cab8a",
   "metadata": {},
   "outputs": [],
   "source": [
    "labels = df[:,df.shape[1]-1]"
   ]
  },
  {
   "cell_type": "code",
   "execution_count": 9,
   "id": "bc8386c2",
   "metadata": {},
   "outputs": [
    {
     "data": {
      "text/plain": [
       "(506,)"
      ]
     },
     "execution_count": 9,
     "metadata": {},
     "output_type": "execute_result"
    }
   ],
   "source": [
    "labels.shape"
   ]
  },
  {
   "cell_type": "code",
   "execution_count": 10,
   "id": "c0835872",
   "metadata": {},
   "outputs": [],
   "source": [
    "df = df[:,0:df.shape[1]-1]"
   ]
  },
  {
   "cell_type": "code",
   "execution_count": 11,
   "id": "449effea",
   "metadata": {},
   "outputs": [
    {
     "data": {
      "text/plain": [
       "(506, 13)"
      ]
     },
     "execution_count": 11,
     "metadata": {},
     "output_type": "execute_result"
    }
   ],
   "source": [
    "df.shape"
   ]
  },
  {
   "cell_type": "code",
   "execution_count": 12,
   "id": "cef31cfe",
   "metadata": {},
   "outputs": [
    {
     "name": "stdout",
     "output_type": "stream",
     "text": [
      "x train shape est (13, 506)\n",
      " Y train shape est (506,)\n"
     ]
    }
   ],
   "source": [
    "X_train = df.T\n",
    "Y_train = labels\n",
    "print('x train shape est {}\\n Y train shape est {}'.format(X_train.shape,Y_train.shape))"
   ]
  },
  {
   "cell_type": "code",
   "execution_count": 13,
   "id": "9870aaaa",
   "metadata": {},
   "outputs": [],
   "source": [
    "X_train = (X_train - np.min(X_train))/np.max(X_train)"
   ]
  },
  {
   "cell_type": "code",
   "execution_count": 14,
   "id": "fef314b8",
   "metadata": {},
   "outputs": [
    {
     "name": "stdout",
     "output_type": "stream",
     "text": [
      "1.0\n",
      "0.0\n"
     ]
    }
   ],
   "source": [
    "print(X_train.max())\n",
    "print(X_train.min())"
   ]
  },
  {
   "cell_type": "code",
   "execution_count": 15,
   "id": "f0a2e0c4",
   "metadata": {},
   "outputs": [
    {
     "name": "stdout",
     "output_type": "stream",
     "text": [
      "[24.  21.6 34.7 33.4 36.2 28.7 22.9 27.1 16.5 18.9]\n"
     ]
    }
   ],
   "source": [
    "print(Y_train[0:10])"
   ]
  },
  {
   "cell_type": "code",
   "execution_count": 16,
   "id": "d27e2450",
   "metadata": {},
   "outputs": [],
   "source": [
    "# def One_Hot(Y) :\n",
    "#     A = np.zeros((Y.shape[0],np.max(Y)+1))\n",
    "#     A[range(Y.shape[0]),Y] = 1\n",
    "#     return A.T"
   ]
  },
  {
   "cell_type": "code",
   "execution_count": 17,
   "id": "dfe23a9e",
   "metadata": {},
   "outputs": [],
   "source": [
    "# Y = One_Hot(Y_train)\n",
    "# Y"
   ]
  },
  {
   "cell_type": "code",
   "execution_count": 18,
   "id": "2a28275a",
   "metadata": {},
   "outputs": [],
   "source": [
    "# np.random.seed(seed = 30)"
   ]
  },
  {
   "cell_type": "code",
   "execution_count": 19,
   "id": "322598c5",
   "metadata": {},
   "outputs": [],
   "source": [
    "def Init_poids(N_N_L_list) :\n",
    "    # N_N_L_list : est une liste des nombres de neuds de chaque couche\n",
    "    # par exemple N_N_L_list = [784,15,20,10] cad couche1 contient 784 noeuds\n",
    "    # couche2 contient 15 noeuds couche3 contient 20 noeuds la derniere couche \n",
    "    # contient 10 noueds\n",
    "    \n",
    "    nb_layers = len(N_N_L_list)\n",
    "    param = {}\n",
    "    \n",
    "    for i in range(1, nb_layers) :\n",
    "        param['theta'+str(i)] = np.random.rand(N_N_L_list[i],N_N_L_list[i-1]) - 0.5\n",
    "        param['b'+str(i)] = np.random.rand(N_N_L_list[i],1) - 0.5\n",
    "    \n",
    "    return param"
   ]
  },
  {
   "cell_type": "code",
   "execution_count": 20,
   "id": "30dbb422",
   "metadata": {},
   "outputs": [],
   "source": [
    "# param = Init_poids([8,7,5,4,3])\n",
    "# for k,v in param.items() :\n",
    "#     print(k,v.shape)"
   ]
  },
  {
   "cell_type": "code",
   "execution_count": 21,
   "id": "b5ff317f",
   "metadata": {},
   "outputs": [],
   "source": [
    "# def softmax(X):\n",
    "#     return np.exp(X)/sum(np.exp(X))"
   ]
  },
  {
   "cell_type": "code",
   "execution_count": 22,
   "id": "181effd4",
   "metadata": {},
   "outputs": [],
   "source": [
    "def Relu(X) :\n",
    "    return np.where(X>=0,X,0) "
   ]
  },
  {
   "cell_type": "code",
   "execution_count": 23,
   "id": "8b3c8550",
   "metadata": {},
   "outputs": [],
   "source": [
    "# Y1 = Relu(np.array([-1,3]))\n",
    "# Y1"
   ]
  },
  {
   "cell_type": "code",
   "execution_count": 24,
   "id": "565ed213",
   "metadata": {},
   "outputs": [],
   "source": [
    "def Rel_prime(X):\n",
    "    return np.where(X<=0,0,1)"
   ]
  },
  {
   "cell_type": "code",
   "execution_count": 25,
   "id": "5b6fb47c",
   "metadata": {},
   "outputs": [],
   "source": [
    "def coefficient_determination(y,pred) :\n",
    "    u =((y-pred)**2).sum()\n",
    "    v = ((y-y.mean())**2).sum()\n",
    "    return 1 -u/v"
   ]
  },
  {
   "cell_type": "code",
   "execution_count": 26,
   "id": "889ea574",
   "metadata": {},
   "outputs": [],
   "source": [
    "def Forward_propagation(param,X):\n",
    "    nbr_layer = len(param) // 2 + 1\n",
    "    outp = {'Z1' : X, 'A1' : X}\n",
    "    for i in range(2,nbr_layer) :\n",
    "        outp['Z'+str(i)] = np.dot(param['theta'+str(i-1)],outp['A'+str(i-1)])+param['b'+str(i-1)]\n",
    "        outp['A'+str(i)] = Relu(outp['Z'+str(i)])\n",
    "    outp['Z'+str(nbr_layer)] = np.dot(param['theta'+str(nbr_layer-1)],outp['A'+str(nbr_layer-1)])+param['b'+str(nbr_layer-1)]\n",
    "    outp['A'+str(nbr_layer)] = outp['Z'+str(nbr_layer)]\n",
    "    return outp"
   ]
  },
  {
   "cell_type": "code",
   "execution_count": 27,
   "id": "3f4f6b73",
   "metadata": {},
   "outputs": [],
   "source": [
    "# X = np.array([[1,2],[3,4],[2,3],[5,2],[3,9],[6,3],[1,0],[3,9]])\n",
    "# outp = Forward_propagation(param,X)\n",
    "# for k,v in outp.items() :\n",
    "#     print(k,v.shape)"
   ]
  },
  {
   "cell_type": "code",
   "execution_count": 28,
   "id": "0071acd2",
   "metadata": {},
   "outputs": [],
   "source": [
    "def Backward_propagation(param,outp, X, Y):\n",
    "    \n",
    "    nbr_layer = len(param) // 2 + 1\n",
    "    m = Y.shape[0]\n",
    "#     Y_enc = One_Hot(Y)\n",
    "    #Y_enc = np.array([[0,1],[1,0],[0,1]])\n",
    "    grad = {}\n",
    "    \n",
    "\n",
    "    delta = 2 * (outp['A'+str(nbr_layer)] -Y)\n",
    "    for i in reversed(range(2,nbr_layer)) :\n",
    "        grad['dtheta' + str(i)] = 1/m * np.dot(delta, outp['A'+str(i)].T)\n",
    "        grad['db' + str(i)] = 1/m * np.sum(delta, axis=1, keepdims=True)\n",
    "        delta = np.dot(param['theta'+str(i)].T, delta) * Rel_prime(outp['Z'+str(i)])\n",
    "    grad['dtheta' + str(1)] = 1/m * np.dot(delta, outp['A'+str(1)].T)\n",
    "    grad['db' + str(1)] = 1/m * np.sum(delta, axis=1, keepdims=True)\n",
    "    \n",
    "    return grad"
   ]
  },
  {
   "cell_type": "code",
   "execution_count": 29,
   "id": "ee44bd07",
   "metadata": {},
   "outputs": [],
   "source": [
    "# Y = np.array([0,2])\n",
    "# grad = Backward_propagation(param,outp, X, Y)\n",
    "# for k,v in grad.items() :\n",
    "#     print(k,v.shape)"
   ]
  },
  {
   "cell_type": "code",
   "execution_count": 30,
   "id": "11c52d42",
   "metadata": {},
   "outputs": [],
   "source": [
    "def pred(A) :\n",
    "    return A"
   ]
  },
  {
   "cell_type": "code",
   "execution_count": 31,
   "id": "6162370d",
   "metadata": {},
   "outputs": [],
   "source": [
    "# def precision(Y_true,Y_pred) :\n",
    "#     return np.sum(Y_true == Y_pred)/Y_true.shape[0]"
   ]
  },
  {
   "cell_type": "code",
   "execution_count": 32,
   "id": "958dec7f",
   "metadata": {},
   "outputs": [],
   "source": [
    "def update_param(param,grad,alpha) :\n",
    "    nbr_layer = len(param) // 2 + 1\n",
    "    \n",
    "    for i in range(1,nbr_layer) :\n",
    "        param['theta'+str(i)] -= alpha * grad['dtheta'+str(i)]\n",
    "        param['b'+str(i)] -= alpha * grad['db'+str(i)]\n",
    "    return param"
   ]
  },
  {
   "cell_type": "code",
   "execution_count": 52,
   "id": "74c25985",
   "metadata": {},
   "outputs": [],
   "source": [
    "def grad_descent(X, Y, list_neaurons, alpha, nbitr) :\n",
    "    \n",
    "    param = Init_poids(list_neaurons)\n",
    "    nbr_layer = len(param) // 2 + 1\n",
    "    for i in range(nbitr) :\n",
    "        outp = Forward_propagation(param,X)\n",
    "        grad = Backward_propagation(param,outp, X, Y)\n",
    "        \n",
    "        param = update_param(param,grad,alpha)\n",
    "        \n",
    "        Y_pred = pred(outp['A'+str(nbr_layer)])\n",
    "        prec = coefficient_determination(Y,Y_pred)\n",
    "        \n",
    "        if i%10000 == 0 :\n",
    "            print('precision a l iteration {} = {}'\n",
    "              .format(i,prec))\n",
    "    return param"
   ]
  },
  {
   "cell_type": "code",
   "execution_count": 57,
   "id": "9802f828",
   "metadata": {},
   "outputs": [
    {
     "name": "stdout",
     "output_type": "stream",
     "text": [
      "precision a l iteration 0 = -6.23943186867752\n",
      "precision a l iteration 10000 = 0.4591787361005921\n",
      "precision a l iteration 20000 = 0.503393415579487\n"
     ]
    }
   ],
   "source": [
    "param = grad_descent(X_train, Y_train, [13,10,10,1], 0.005, 20001) "
   ]
  },
  {
   "cell_type": "code",
   "execution_count": null,
   "id": "b59e4f94",
   "metadata": {},
   "outputs": [],
   "source": []
  }
 ],
 "metadata": {
  "kernelspec": {
   "display_name": "Python 3 (ipykernel)",
   "language": "python",
   "name": "python3"
  },
  "language_info": {
   "codemirror_mode": {
    "name": "ipython",
    "version": 3
   },
   "file_extension": ".py",
   "mimetype": "text/x-python",
   "name": "python",
   "nbconvert_exporter": "python",
   "pygments_lexer": "ipython3",
   "version": "3.9.12"
  }
 },
 "nbformat": 4,
 "nbformat_minor": 5
}
