{
 "cells": [
  {
   "cell_type": "markdown",
   "id": "83aa1422",
   "metadata": {},
   "source": [
    "# reconaissance des chifres manuscrits en utilisant un reseau de neurons formé de plusieurs couches cachées"
   ]
  },
  {
   "cell_type": "code",
   "execution_count": 1,
   "id": "03dd3b72",
   "metadata": {},
   "outputs": [],
   "source": [
    "import numpy as np\n",
    "import pandas as pd"
   ]
  },
  {
   "cell_type": "code",
   "execution_count": 2,
   "id": "ec84493c",
   "metadata": {},
   "outputs": [],
   "source": [
    "df = pd.read_csv('Digit_Recognizer.csv')"
   ]
  },
  {
   "cell_type": "code",
   "execution_count": 3,
   "id": "7ff9cf0b",
   "metadata": {},
   "outputs": [
    {
     "name": "stdout",
     "output_type": "stream",
     "text": [
      "<class 'pandas.core.frame.DataFrame'>\n"
     ]
    }
   ],
   "source": [
    "print(type(df))"
   ]
  },
  {
   "cell_type": "code",
   "execution_count": 4,
   "id": "b51a64fe",
   "metadata": {},
   "outputs": [],
   "source": [
    "df = np.array(df)"
   ]
  },
  {
   "cell_type": "code",
   "execution_count": 5,
   "id": "4f2c558d",
   "metadata": {},
   "outputs": [
    {
     "name": "stdout",
     "output_type": "stream",
     "text": [
      "<class 'numpy.ndarray'>\n"
     ]
    }
   ],
   "source": [
    "print(type(df))"
   ]
  },
  {
   "cell_type": "code",
   "execution_count": 6,
   "id": "6a10af42",
   "metadata": {},
   "outputs": [
    {
     "data": {
      "text/plain": [
       "(42000, 785)"
      ]
     },
     "execution_count": 6,
     "metadata": {},
     "output_type": "execute_result"
    }
   ],
   "source": [
    "df.shape"
   ]
  },
  {
   "cell_type": "code",
   "execution_count": 7,
   "id": "e87cab8a",
   "metadata": {},
   "outputs": [],
   "source": [
    "labels = df[:,0]"
   ]
  },
  {
   "cell_type": "code",
   "execution_count": 8,
   "id": "bc8386c2",
   "metadata": {},
   "outputs": [
    {
     "data": {
      "text/plain": [
       "(42000,)"
      ]
     },
     "execution_count": 8,
     "metadata": {},
     "output_type": "execute_result"
    }
   ],
   "source": [
    "labels.shape"
   ]
  },
  {
   "cell_type": "code",
   "execution_count": 9,
   "id": "1f5ad9ed",
   "metadata": {},
   "outputs": [
    {
     "name": "stdout",
     "output_type": "stream",
     "text": [
      "[1 5 1 7 4 8 9 5 7 4 7 2 2 1 4 8 8 6 2 2 2 6 7 8 1 8 8 1 9 0 7 9 6 6 8 2 3\n",
      " 5 4 5 4 1 3 7 1 5 0 0 8 5 3 7 6 8 2 8 4 2 3 6 2 8 7 2 4 7 3 4 4 5 4 8 3 1\n",
      " 5 1 0 2 2 2 9 5 9 6 6 9 4 1 7 2 2 0 7 0 6 8 0 5 7 4 7 9 3 2 5 7 1 9 9 9 9\n",
      " 4 5 5 7 6 2 6 3 1 8 5 3 3 4 7 3 2 9 7 5 5 6 9 8 0 8 3 4 9 2 0 8 6 9 1 4 2\n",
      " 8 5 6 7 1 8 2 5 7 2 8 4 5 8 7 5 4 6 7 0 0 4 1 1 8 3 0 2 2 2 8 4 3 1 6 3 9\n",
      " 1 4 7 9 8 8 0 1 1 6 6 9 2 3 5 6 6 6 9 8 7 2 8 5 1 2 9 0 5 7 2 2 3 1 4 2 1\n",
      " 0 2 4 2 6 0 6 6 2 5 4 3 7 8 1 7 3 7 6 7 9 4 4 1 4 9 5 8 4 7 6 0 2 5 9 9 9\n",
      " 0 0 2 9 6 3 5 6 1 1 7 5 3 8 3 6 2 1 9 5 9 5 0 6 8 2 0 2 2 3 8 1 4 3 4 1 4\n",
      " 9 3 2 8 9 6 1 0 4 9 5 9 6 4 4 2 5 2 0 7 6 5 6 6 3 8 5 6 3 7 5 2 3 9 2 2 9\n",
      " 7 7 8 3 8 7 3 1 4 8 9 6 6 2 1 7 1 8 8 5 0 6 0 0 6 7 9 6 1 4 9 9 2 9 1 9 7\n",
      " 2 5 6 1 6 0 5 3 1 2 1 5 4 4 7 0 9 3 1 6 6 6 5 7 2 0 8 7 1 6 2 2 8 0 8 1 9\n",
      " 0 2 1 1 1 4 1 8 1 3 7 5 2 1 9 1 4 9 6 4 6 0 6 1 7 6 1 3 1 0 2 5 9 5 6 7 7\n",
      " 9 2 1 5 4 4 8 1 7 4 2 0 8 0 1 7 7 4 0 0 1 6 5 5 9 8 2 1 0 5 0 1 5 0 4 1 4\n",
      " 2 8 5 4 9 1 6 9 0 0 6 3 4 7 0 1 2 8 2 1 9 9 1 4 1 5 5 6 4 0 9 6 7 7 6 0 5\n",
      " 2 1 6 4 4 5 1 3 9 0 1 6 5 0 8 2 2 3 5 6 4 2 9 1 0 7 0 2 8 1 8 2 0 6 3 8 3\n",
      " 8 2 2 7 1 9 9 2 0 6 8 7 8 6 0 1 2 1 8 6 9 7 6 4 6 9 0 5 9 2 9 7 7 4 3 4 5\n",
      " 6 8 9 9 7 7 2 9 4 9 2 3 2 5 8 4 4 5 5 6 1 2 9 2 9 0 0 9 3 5 4 9 4 3 1 5 8\n",
      " 9 6 9 8 2 2 1 4 7 2 0 5 1 1 5 9 3 9 3 1 1 0 2 3 4 6 6 9 8 7 3 0 7 1 3 4 1\n",
      " 1 0 4 8 0 1 2 6 3 0 4 0 5 2 4 2 9 7 0 2 0 6 8 8 0 3 5 7 6 2 9 8 6 4 4 2 5\n",
      " 5 6 9 9 3 7 4 4 9 3 6 5 3 1 7 9 3 5 6 0 7 7 6 0 6 8 0 6 8 4 2 9 0 1 8 5 9\n",
      " 4 2 1 1 3 9 0 0 8 7 5 1 9 9 0 1 8 7 5 8 7 0 2 7 0 5 7 5 4 6 0 8 1 1 3 9 2\n",
      " 4 3 0 2 3 6 1 0 8 8 5 6 5 4 1 5 7 8 8 9 6 6 8 2 4 2 4 6 6 9 8 6 6 2 5 1 4\n",
      " 4 0 4 9 4 5 3 5 5 3 3 3 5 3 7 4 6 4 5 4 8 1 9 8 5 4 7 2 0 9 1 1 7 6 7 1 1\n",
      " 6 6 8 4 4 3 3 1 6 2 1 9 4 9 2 2 1 3 2 3 9 1 3 5 5 2 9 3 4 3 0 8 1 3 8 6 2\n",
      " 1 9 0 6 9 7 3 6 3 6 0 1 2 3 0 2 5 6 6 6 1 3 3 0 6 7 6 4 3 7 7 2 6 3 3 4 6\n",
      " 2 8 5 8 7 5 1 0 8 7 4 9 3 9 5 8 2 1 2 9 1 9 2 9 0 6 6 8 6 3 7 8 3 0 5 4 6\n",
      " 4 2 1 1 1 4 1 6 7 4 1 3 6 7 1 1 8 1 1 6 5 5 8 5 4 7 0 2 4 0 1 2 1 7 5 5 5\n",
      " 4]\n"
     ]
    }
   ],
   "source": [
    "print(labels[1000:2000])"
   ]
  },
  {
   "cell_type": "code",
   "execution_count": 10,
   "id": "c0835872",
   "metadata": {},
   "outputs": [],
   "source": [
    "df = df[:,1:df.shape[1]]"
   ]
  },
  {
   "cell_type": "code",
   "execution_count": 11,
   "id": "449effea",
   "metadata": {},
   "outputs": [
    {
     "data": {
      "text/plain": [
       "(42000, 784)"
      ]
     },
     "execution_count": 11,
     "metadata": {},
     "output_type": "execute_result"
    }
   ],
   "source": [
    "df.shape"
   ]
  },
  {
   "cell_type": "code",
   "execution_count": 12,
   "id": "cef31cfe",
   "metadata": {},
   "outputs": [
    {
     "name": "stdout",
     "output_type": "stream",
     "text": [
      "x train shape est (784, 1000)\n",
      " Y train shape est (1000,)\n"
     ]
    }
   ],
   "source": [
    "X_train = df[0:1000,:].T\n",
    "Y_train = labels[0:1000]\n",
    "print('x train shape est {}\\n Y train shape est {}'.format(X_train.shape,Y_train.shape))"
   ]
  },
  {
   "cell_type": "code",
   "execution_count": 13,
   "id": "9870aaaa",
   "metadata": {},
   "outputs": [],
   "source": [
    "X_train = X_train / 255"
   ]
  },
  {
   "cell_type": "code",
   "execution_count": 14,
   "id": "fef314b8",
   "metadata": {},
   "outputs": [
    {
     "name": "stdout",
     "output_type": "stream",
     "text": [
      "1.0\n",
      "0.0\n"
     ]
    }
   ],
   "source": [
    "print(X_train.max())\n",
    "print(X_train.min())"
   ]
  },
  {
   "cell_type": "code",
   "execution_count": 15,
   "id": "f0a2e0c4",
   "metadata": {},
   "outputs": [
    {
     "name": "stdout",
     "output_type": "stream",
     "text": [
      "[1 0 1 4 0 0 7 3 5 3]\n"
     ]
    }
   ],
   "source": [
    "print(Y_train[0:10])"
   ]
  },
  {
   "cell_type": "code",
   "execution_count": 16,
   "id": "d27e2450",
   "metadata": {},
   "outputs": [],
   "source": [
    "def One_Hot(Y) :\n",
    "    A = np.zeros((Y.shape[0],np.max(Y)+1))\n",
    "    A[range(Y.shape[0]),Y] = 1\n",
    "    return A.T"
   ]
  },
  {
   "cell_type": "code",
   "execution_count": 17,
   "id": "dfe23a9e",
   "metadata": {},
   "outputs": [
    {
     "data": {
      "text/plain": [
       "array([[0., 1., 0., ..., 0., 0., 0.],\n",
       "       [1., 0., 1., ..., 0., 0., 0.],\n",
       "       [0., 0., 0., ..., 0., 0., 0.],\n",
       "       ...,\n",
       "       [0., 0., 0., ..., 0., 0., 0.],\n",
       "       [0., 0., 0., ..., 0., 0., 0.],\n",
       "       [0., 0., 0., ..., 1., 0., 0.]])"
      ]
     },
     "execution_count": 17,
     "metadata": {},
     "output_type": "execute_result"
    }
   ],
   "source": [
    "Y = One_Hot(Y_train)\n",
    "Y"
   ]
  },
  {
   "cell_type": "code",
   "execution_count": 18,
   "id": "2a28275a",
   "metadata": {},
   "outputs": [],
   "source": [
    "# np.random.seed(seed = 30)"
   ]
  },
  {
   "cell_type": "code",
   "execution_count": 19,
   "id": "322598c5",
   "metadata": {},
   "outputs": [],
   "source": [
    "def Init_poids(N_N_L_list) :\n",
    "    # N_N_L_list : est une liste des nombres de neuds de chaque couche\n",
    "    # par exemple N_N_L_list = [784,15,20,10] cad couche1 contient 784 noeuds\n",
    "    # couche2 contient 15 noeuds couche3 contient 20 noeuds la derniere couche \n",
    "    # contient 10 noueds\n",
    "    \n",
    "    nb_layers = len(N_N_L_list)\n",
    "    param = {}\n",
    "    \n",
    "    for i in range(1, nb_layers) :\n",
    "        param['theta'+str(i)] = np.random.rand(N_N_L_list[i],N_N_L_list[i-1]) - 0.5\n",
    "        param['b'+str(i)] = np.random.rand(N_N_L_list[i],1) - 0.5\n",
    "    \n",
    "    return param"
   ]
  },
  {
   "cell_type": "code",
   "execution_count": 20,
   "id": "30dbb422",
   "metadata": {},
   "outputs": [],
   "source": [
    "# param = Init_poids([8,7,5,4,3])\n",
    "# for k,v in param.items() :\n",
    "#     print(k,v.shape)"
   ]
  },
  {
   "cell_type": "code",
   "execution_count": 21,
   "id": "b5ff317f",
   "metadata": {},
   "outputs": [],
   "source": [
    "def softmax(X):\n",
    "    return np.exp(X)/sum(np.exp(X))"
   ]
  },
  {
   "cell_type": "code",
   "execution_count": 22,
   "id": "181effd4",
   "metadata": {},
   "outputs": [],
   "source": [
    "def Relu(X) :\n",
    "    return np.where(X>=0,X,0) "
   ]
  },
  {
   "cell_type": "code",
   "execution_count": 23,
   "id": "8b3c8550",
   "metadata": {},
   "outputs": [
    {
     "data": {
      "text/plain": [
       "array([0, 3])"
      ]
     },
     "execution_count": 23,
     "metadata": {},
     "output_type": "execute_result"
    }
   ],
   "source": [
    "Y1 = Relu(np.array([-1,3]))\n",
    "Y1"
   ]
  },
  {
   "cell_type": "code",
   "execution_count": 24,
   "id": "565ed213",
   "metadata": {},
   "outputs": [],
   "source": [
    "def Rel_prime(X):\n",
    "    return np.where(X<=0,0,1)"
   ]
  },
  {
   "cell_type": "code",
   "execution_count": null,
   "id": "5b6fb47c",
   "metadata": {},
   "outputs": [],
   "source": []
  },
  {
   "cell_type": "code",
   "execution_count": 25,
   "id": "889ea574",
   "metadata": {},
   "outputs": [],
   "source": [
    "def Forward_propagation(param,X):\n",
    "    nbr_layer = len(param) // 2 + 1\n",
    "    outp = {'Z1' : X, 'A1' : X}\n",
    "    for i in range(2,nbr_layer) :\n",
    "        outp['Z'+str(i)] = np.dot(param['theta'+str(i-1)],outp['A'+str(i-1)])+param['b'+str(i-1)]\n",
    "        outp['A'+str(i)] = Relu(outp['Z'+str(i)])\n",
    "    outp['Z'+str(nbr_layer)] = np.dot(param['theta'+str(nbr_layer-1)],outp['A'+str(nbr_layer-1)])+param['b'+str(nbr_layer-1)]\n",
    "    outp['A'+str(nbr_layer)] = softmax(outp['Z'+str(nbr_layer)]) \n",
    "    return outp"
   ]
  },
  {
   "cell_type": "code",
   "execution_count": 26,
   "id": "3f4f6b73",
   "metadata": {},
   "outputs": [],
   "source": [
    "# X = np.array([[1,2],[3,4],[2,3],[5,2],[3,9],[6,3],[1,0],[3,9]])\n",
    "# outp = Forward_propagation(param,X)\n",
    "# for k,v in outp.items() :\n",
    "#     print(k,v.shape)"
   ]
  },
  {
   "cell_type": "code",
   "execution_count": 40,
   "id": "0071acd2",
   "metadata": {},
   "outputs": [],
   "source": [
    "def Backward_propagation(param,outp, X, Y):\n",
    "    \n",
    "    nbr_layer = len(param) // 2 + 1\n",
    "    m = Y.shape[0]\n",
    "    Y_enc = One_Hot(Y)\n",
    "    #Y_enc = np.array([[0,1],[1,0],[0,1]])\n",
    "    grad = {}\n",
    "    \n",
    "\n",
    "    delta = outp['A'+str(nbr_layer)] -Y_enc\n",
    "    for i in reversed(range(2,nbr_layer)) :\n",
    "        grad['dtheta' + str(i)] = 1/m * np.dot(delta, outp['A'+str(i)].T)\n",
    "        grad['db' + str(i)] = 1/m * np.sum(delta, axis=1, keepdims=True)\n",
    "        delta = np.dot(param['theta'+str(i)].T, delta) * Rel_prime(outp['Z'+str(i)])\n",
    "    grad['dtheta' + str(1)] = 1/m * np.dot(delta, outp['A'+str(1)].T)\n",
    "    grad['db' + str(1)] = 1/m * np.sum(delta, axis=1, keepdims=True)\n",
    "    \n",
    "    return grad"
   ]
  },
  {
   "cell_type": "code",
   "execution_count": 41,
   "id": "ee44bd07",
   "metadata": {},
   "outputs": [],
   "source": [
    "# Y = np.array([0,2])\n",
    "# grad = Backward_propagation(param,outp, X, Y)\n",
    "# for k,v in grad.items() :\n",
    "#     print(k,v.shape)"
   ]
  },
  {
   "cell_type": "code",
   "execution_count": 42,
   "id": "11c52d42",
   "metadata": {},
   "outputs": [],
   "source": [
    "def pred(A2) :\n",
    "    return np.argmax(A2, axis=0)"
   ]
  },
  {
   "cell_type": "code",
   "execution_count": 43,
   "id": "6162370d",
   "metadata": {},
   "outputs": [],
   "source": [
    "def precision(Y_true,Y_pred) :\n",
    "    return np.sum(Y_true == Y_pred)/Y_true.shape[0]"
   ]
  },
  {
   "cell_type": "code",
   "execution_count": 44,
   "id": "958dec7f",
   "metadata": {},
   "outputs": [],
   "source": [
    "def update_param(param,grad,alpha) :\n",
    "    nbr_layer = len(param) // 2 + 1\n",
    "    \n",
    "    for i in range(1,nbr_layer) :\n",
    "        param['theta'+str(i)] -= alpha * grad['dtheta'+str(i)]\n",
    "        param['b'+str(i)] -= alpha * grad['db'+str(i)]\n",
    "    return param"
   ]
  },
  {
   "cell_type": "code",
   "execution_count": 45,
   "id": "74c25985",
   "metadata": {},
   "outputs": [],
   "source": [
    "def grad_descent(X, Y, list_neaurons, alpha, nbitr) :\n",
    "    \n",
    "    param = Init_poids(list_neaurons)\n",
    "    nbr_layer = len(param) // 2 + 1\n",
    "    for i in range(nbitr) :\n",
    "        outp = Forward_propagation(param,X)\n",
    "        grad = Backward_propagation(param,outp, X, Y)\n",
    "        \n",
    "        param = update_param(param,grad,alpha)\n",
    "        \n",
    "        Y_pred = pred(outp['A'+str(nbr_layer)])\n",
    "        prec = precision(Y, Y_pred)\n",
    "        \n",
    "        if i%100 == 0 :\n",
    "            print('precision a l iteration {} = {}'\n",
    "              .format(i,prec))\n",
    "    return param"
   ]
  },
  {
   "cell_type": "code",
   "execution_count": 48,
   "id": "9802f828",
   "metadata": {},
   "outputs": [
    {
     "name": "stdout",
     "output_type": "stream",
     "text": [
      "precision a l iteration 0 = 0.081\n",
      "precision a l iteration 100 = 0.47\n",
      "precision a l iteration 200 = 0.68\n",
      "precision a l iteration 300 = 0.763\n",
      "precision a l iteration 400 = 0.812\n",
      "precision a l iteration 500 = 0.854\n",
      "precision a l iteration 600 = 0.887\n",
      "precision a l iteration 700 = 0.914\n",
      "precision a l iteration 800 = 0.946\n",
      "precision a l iteration 900 = 0.964\n",
      "precision a l iteration 1000 = 0.972\n",
      "precision a l iteration 1100 = 0.981\n",
      "precision a l iteration 1200 = 0.982\n",
      "precision a l iteration 1300 = 0.983\n",
      "precision a l iteration 1400 = 0.984\n",
      "precision a l iteration 1500 = 0.984\n",
      "precision a l iteration 1600 = 0.984\n",
      "precision a l iteration 1700 = 0.985\n",
      "precision a l iteration 1800 = 0.985\n",
      "precision a l iteration 1900 = 0.985\n"
     ]
    }
   ],
   "source": [
    "param = grad_descent(X_train, Y_train, [784,15,15,5,10], 0.1, 1901) "
   ]
  },
  {
   "cell_type": "code",
   "execution_count": null,
   "id": "b59e4f94",
   "metadata": {},
   "outputs": [],
   "source": []
  }
 ],
 "metadata": {
  "kernelspec": {
   "display_name": "Python 3 (ipykernel)",
   "language": "python",
   "name": "python3"
  },
  "language_info": {
   "codemirror_mode": {
    "name": "ipython",
    "version": 3
   },
   "file_extension": ".py",
   "mimetype": "text/x-python",
   "name": "python",
   "nbconvert_exporter": "python",
   "pygments_lexer": "ipython3",
   "version": "3.9.12"
  }
 },
 "nbformat": 4,
 "nbformat_minor": 5
}
