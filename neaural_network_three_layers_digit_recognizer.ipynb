{
 "cells": [
  {
   "cell_type": "markdown",
   "id": "83aa1422",
   "metadata": {},
   "source": [
    "# reconaissance des chifres manuscrits en utilisant un reseau de neurons formé de trois couches "
   ]
  },
  {
   "cell_type": "code",
   "execution_count": 1,
   "id": "03dd3b72",
   "metadata": {},
   "outputs": [],
   "source": [
    "import numpy as np\n",
    "import pandas as pd"
   ]
  },
  {
   "cell_type": "code",
   "execution_count": 2,
   "id": "ec84493c",
   "metadata": {},
   "outputs": [],
   "source": [
    "df = pd.read_csv('Digit_Recognizer.csv')"
   ]
  },
  {
   "cell_type": "code",
   "execution_count": 4,
   "id": "7ff9cf0b",
   "metadata": {},
   "outputs": [
    {
     "name": "stdout",
     "output_type": "stream",
     "text": [
      "<class 'pandas.core.frame.DataFrame'>\n"
     ]
    }
   ],
   "source": [
    "print(type(df))"
   ]
  },
  {
   "cell_type": "code",
   "execution_count": 5,
   "id": "b51a64fe",
   "metadata": {},
   "outputs": [],
   "source": [
    "df = np.array(df)"
   ]
  },
  {
   "cell_type": "code",
   "execution_count": 6,
   "id": "4f2c558d",
   "metadata": {},
   "outputs": [
    {
     "name": "stdout",
     "output_type": "stream",
     "text": [
      "<class 'numpy.ndarray'>\n"
     ]
    }
   ],
   "source": [
    "print(type(df))"
   ]
  },
  {
   "cell_type": "code",
   "execution_count": 7,
   "id": "6a10af42",
   "metadata": {},
   "outputs": [
    {
     "data": {
      "text/plain": [
       "(42000, 785)"
      ]
     },
     "execution_count": 7,
     "metadata": {},
     "output_type": "execute_result"
    }
   ],
   "source": [
    "df.shape"
   ]
  },
  {
   "cell_type": "code",
   "execution_count": 8,
   "id": "e87cab8a",
   "metadata": {},
   "outputs": [],
   "source": [
    "labels = df[:,0]"
   ]
  },
  {
   "cell_type": "code",
   "execution_count": 9,
   "id": "bc8386c2",
   "metadata": {},
   "outputs": [
    {
     "data": {
      "text/plain": [
       "(42000,)"
      ]
     },
     "execution_count": 9,
     "metadata": {},
     "output_type": "execute_result"
    }
   ],
   "source": [
    "labels.shape"
   ]
  },
  {
   "cell_type": "code",
   "execution_count": 10,
   "id": "1f5ad9ed",
   "metadata": {},
   "outputs": [
    {
     "name": "stdout",
     "output_type": "stream",
     "text": [
      "[1 5 1 7 4 8 9 5 7 4 7 2 2 1 4 8 8 6 2 2 2 6 7 8 1 8 8 1 9 0 7 9 6 6 8 2 3\n",
      " 5 4 5 4 1 3 7 1 5 0 0 8 5 3 7 6 8 2 8 4 2 3 6 2 8 7 2 4 7 3 4 4 5 4 8 3 1\n",
      " 5 1 0 2 2 2 9 5 9 6 6 9 4 1 7 2 2 0 7 0 6 8 0 5 7 4 7 9 3 2 5 7 1 9 9 9 9\n",
      " 4 5 5 7 6 2 6 3 1 8 5 3 3 4 7 3 2 9 7 5 5 6 9 8 0 8 3 4 9 2 0 8 6 9 1 4 2\n",
      " 8 5 6 7 1 8 2 5 7 2 8 4 5 8 7 5 4 6 7 0 0 4 1 1 8 3 0 2 2 2 8 4 3 1 6 3 9\n",
      " 1 4 7 9 8 8 0 1 1 6 6 9 2 3 5 6 6 6 9 8 7 2 8 5 1 2 9 0 5 7 2 2 3 1 4 2 1\n",
      " 0 2 4 2 6 0 6 6 2 5 4 3 7 8 1 7 3 7 6 7 9 4 4 1 4 9 5 8 4 7 6 0 2 5 9 9 9\n",
      " 0 0 2 9 6 3 5 6 1 1 7 5 3 8 3 6 2 1 9 5 9 5 0 6 8 2 0 2 2 3 8 1 4 3 4 1 4\n",
      " 9 3 2 8 9 6 1 0 4 9 5 9 6 4 4 2 5 2 0 7 6 5 6 6 3 8 5 6 3 7 5 2 3 9 2 2 9\n",
      " 7 7 8 3 8 7 3 1 4 8 9 6 6 2 1 7 1 8 8 5 0 6 0 0 6 7 9 6 1 4 9 9 2 9 1 9 7\n",
      " 2 5 6 1 6 0 5 3 1 2 1 5 4 4 7 0 9 3 1 6 6 6 5 7 2 0 8 7 1 6 2 2 8 0 8 1 9\n",
      " 0 2 1 1 1 4 1 8 1 3 7 5 2 1 9 1 4 9 6 4 6 0 6 1 7 6 1 3 1 0 2 5 9 5 6 7 7\n",
      " 9 2 1 5 4 4 8 1 7 4 2 0 8 0 1 7 7 4 0 0 1 6 5 5 9 8 2 1 0 5 0 1 5 0 4 1 4\n",
      " 2 8 5 4 9 1 6 9 0 0 6 3 4 7 0 1 2 8 2 1 9 9 1 4 1 5 5 6 4 0 9 6 7 7 6 0 5\n",
      " 2 1 6 4 4 5 1 3 9 0 1 6 5 0 8 2 2 3 5 6 4 2 9 1 0 7 0 2 8 1 8 2 0 6 3 8 3\n",
      " 8 2 2 7 1 9 9 2 0 6 8 7 8 6 0 1 2 1 8 6 9 7 6 4 6 9 0 5 9 2 9 7 7 4 3 4 5\n",
      " 6 8 9 9 7 7 2 9 4 9 2 3 2 5 8 4 4 5 5 6 1 2 9 2 9 0 0 9 3 5 4 9 4 3 1 5 8\n",
      " 9 6 9 8 2 2 1 4 7 2 0 5 1 1 5 9 3 9 3 1 1 0 2 3 4 6 6 9 8 7 3 0 7 1 3 4 1\n",
      " 1 0 4 8 0 1 2 6 3 0 4 0 5 2 4 2 9 7 0 2 0 6 8 8 0 3 5 7 6 2 9 8 6 4 4 2 5\n",
      " 5 6 9 9 3 7 4 4 9 3 6 5 3 1 7 9 3 5 6 0 7 7 6 0 6 8 0 6 8 4 2 9 0 1 8 5 9\n",
      " 4 2 1 1 3 9 0 0 8 7 5 1 9 9 0 1 8 7 5 8 7 0 2 7 0 5 7 5 4 6 0 8 1 1 3 9 2\n",
      " 4 3 0 2 3 6 1 0 8 8 5 6 5 4 1 5 7 8 8 9 6 6 8 2 4 2 4 6 6 9 8 6 6 2 5 1 4\n",
      " 4 0 4 9 4 5 3 5 5 3 3 3 5 3 7 4 6 4 5 4 8 1 9 8 5 4 7 2 0 9 1 1 7 6 7 1 1\n",
      " 6 6 8 4 4 3 3 1 6 2 1 9 4 9 2 2 1 3 2 3 9 1 3 5 5 2 9 3 4 3 0 8 1 3 8 6 2\n",
      " 1 9 0 6 9 7 3 6 3 6 0 1 2 3 0 2 5 6 6 6 1 3 3 0 6 7 6 4 3 7 7 2 6 3 3 4 6\n",
      " 2 8 5 8 7 5 1 0 8 7 4 9 3 9 5 8 2 1 2 9 1 9 2 9 0 6 6 8 6 3 7 8 3 0 5 4 6\n",
      " 4 2 1 1 1 4 1 6 7 4 1 3 6 7 1 1 8 1 1 6 5 5 8 5 4 7 0 2 4 0 1 2 1 7 5 5 5\n",
      " 4]\n"
     ]
    }
   ],
   "source": [
    "print(labels[1000:2000])"
   ]
  },
  {
   "cell_type": "code",
   "execution_count": 11,
   "id": "c0835872",
   "metadata": {},
   "outputs": [],
   "source": [
    "df = df[:,1:df.shape[1]]"
   ]
  },
  {
   "cell_type": "code",
   "execution_count": 12,
   "id": "449effea",
   "metadata": {},
   "outputs": [
    {
     "data": {
      "text/plain": [
       "(42000, 784)"
      ]
     },
     "execution_count": 12,
     "metadata": {},
     "output_type": "execute_result"
    }
   ],
   "source": [
    "df.shape"
   ]
  },
  {
   "cell_type": "code",
   "execution_count": 13,
   "id": "cef31cfe",
   "metadata": {},
   "outputs": [
    {
     "name": "stdout",
     "output_type": "stream",
     "text": [
      "x train shape est (784, 1000)\n",
      " Y train shape est (1000,)\n"
     ]
    }
   ],
   "source": [
    "X_train = df[0:1000,:].T\n",
    "Y_train = labels[0:1000]\n",
    "print('x train shape est {}\\n Y train shape est {}'.format(X_train.shape,Y_train.shape))"
   ]
  },
  {
   "cell_type": "code",
   "execution_count": 14,
   "id": "9870aaaa",
   "metadata": {},
   "outputs": [],
   "source": [
    "X_train = X_train / 255"
   ]
  },
  {
   "cell_type": "code",
   "execution_count": 15,
   "id": "fef314b8",
   "metadata": {},
   "outputs": [
    {
     "name": "stdout",
     "output_type": "stream",
     "text": [
      "1.0\n",
      "0.0\n"
     ]
    }
   ],
   "source": [
    "print(X_train.max())\n",
    "print(X_train.min())"
   ]
  },
  {
   "cell_type": "code",
   "execution_count": 16,
   "id": "f0a2e0c4",
   "metadata": {},
   "outputs": [
    {
     "name": "stdout",
     "output_type": "stream",
     "text": [
      "[1 0 1 4 0 0 7 3 5 3]\n"
     ]
    }
   ],
   "source": [
    "print(Y_train[0:10])"
   ]
  },
  {
   "cell_type": "code",
   "execution_count": 17,
   "id": "d27e2450",
   "metadata": {},
   "outputs": [],
   "source": [
    "def One_Hot(Y) :\n",
    "    A = np.zeros((Y.shape[0],np.max(Y)+1))\n",
    "    A[range(Y.shape[0]),Y] = 1\n",
    "    return A.T"
   ]
  },
  {
   "cell_type": "code",
   "execution_count": 18,
   "id": "dfe23a9e",
   "metadata": {},
   "outputs": [
    {
     "data": {
      "text/plain": [
       "array([[0., 1., 0., ..., 0., 0., 0.],\n",
       "       [1., 0., 1., ..., 0., 0., 0.],\n",
       "       [0., 0., 0., ..., 0., 0., 0.],\n",
       "       ...,\n",
       "       [0., 0., 0., ..., 0., 0., 0.],\n",
       "       [0., 0., 0., ..., 0., 0., 0.],\n",
       "       [0., 0., 0., ..., 1., 0., 0.]])"
      ]
     },
     "execution_count": 18,
     "metadata": {},
     "output_type": "execute_result"
    }
   ],
   "source": [
    "Y = One_Hot(Y_train)\n",
    "Y"
   ]
  },
  {
   "cell_type": "code",
   "execution_count": 19,
   "id": "2a28275a",
   "metadata": {},
   "outputs": [],
   "source": [
    "# np.random.seed(seed = 30)"
   ]
  },
  {
   "cell_type": "code",
   "execution_count": 20,
   "id": "322598c5",
   "metadata": {},
   "outputs": [],
   "source": [
    "def Init_poids():\n",
    "    \n",
    "    theta1 = np.random.rand(15,784) - 0.5\n",
    "    theta2 = np.random.rand(10,15) - 0.5\n",
    "    b1 = np.random.rand(15,1) - 0.5\n",
    "    b2 = np.random.rand(10,1) - 0.5\n",
    "\n",
    "#     theta1 = np.zeros((15,784)) \n",
    "#     theta2 = np.zeros((10,15)) \n",
    "#     b1 = np.zeros((15,1))\n",
    "#     b2 = np.zeros((10,1)) \n",
    "    \n",
    "#     theta1 = np.random.randn(3,5)\n",
    "#     theta2 = np.random.randn(2,3)\n",
    "#     b1 = np.random.randn(3,1)\n",
    "#     b2 = np.random.randn(2,1)\n",
    "    \n",
    "    return theta1,theta2,b1,b2"
   ]
  },
  {
   "cell_type": "code",
   "execution_count": 21,
   "id": "30dbb422",
   "metadata": {},
   "outputs": [],
   "source": [
    " theta1,theta2,b1,b2 = Init_poids()"
   ]
  },
  {
   "cell_type": "code",
   "execution_count": 22,
   "id": "b5ff317f",
   "metadata": {},
   "outputs": [],
   "source": [
    "def softmax(X):\n",
    "    return np.exp(X)/sum(np.exp(X))"
   ]
  },
  {
   "cell_type": "code",
   "execution_count": 23,
   "id": "181effd4",
   "metadata": {},
   "outputs": [],
   "source": [
    "def Relu(X) :\n",
    "    return np.where(X>=0,X,0) "
   ]
  },
  {
   "cell_type": "code",
   "execution_count": 24,
   "id": "8b3c8550",
   "metadata": {},
   "outputs": [
    {
     "data": {
      "text/plain": [
       "array([0, 3])"
      ]
     },
     "execution_count": 24,
     "metadata": {},
     "output_type": "execute_result"
    }
   ],
   "source": [
    "Y1 = Relu(np.array([-1,3]))\n",
    "Y1"
   ]
  },
  {
   "cell_type": "code",
   "execution_count": 25,
   "id": "565ed213",
   "metadata": {},
   "outputs": [],
   "source": [
    "def Rel_prime(X):\n",
    "    return np.where(X<=0,0,1)"
   ]
  },
  {
   "cell_type": "code",
   "execution_count": null,
   "id": "5b6fb47c",
   "metadata": {},
   "outputs": [],
   "source": []
  },
  {
   "cell_type": "code",
   "execution_count": 26,
   "id": "889ea574",
   "metadata": {},
   "outputs": [],
   "source": [
    "def Forward_propagation(theta1,b1,theta2,b2,X):\n",
    "    Z1 = np.dot(theta1,X)+b1\n",
    "    A1 = Relu(Z1)\n",
    "    Z2 = np.dot(theta2,A1)+b2\n",
    "    A2 = softmax(Z2) \n",
    "    return Z1,Z2,A1,A2"
   ]
  },
  {
   "cell_type": "code",
   "execution_count": 27,
   "id": "0071acd2",
   "metadata": {},
   "outputs": [],
   "source": [
    "def Backward_propagation(theta1, theta2, A1, A2, \n",
    "                         Z1, Z2 , X, Y):\n",
    "    m = Y.shape[0]\n",
    "    Y_enc = One_Hot(Y)\n",
    "    delta2 = A2 -Y_enc\n",
    "    \n",
    "    d_J_th2 = 1/m * np.dot(delta2, A1.T)\n",
    "    d_J_b2 = 1/m * np.sum(delta2, axis=1, \n",
    "                          keepdims=True)\n",
    "    \n",
    "    delta1 = np.dot(theta2.T, delta2) * Rel_prime(Z1)\n",
    "    \n",
    "    d_J_th1 = 1/m * np.dot(delta1, X.T)\n",
    "    d_J_b1 = 1/m * np.sum(delta1, axis=1, keepdims=True)\n",
    "    \n",
    "    return d_J_th1, d_J_th2, d_J_b1, d_J_b2"
   ]
  },
  {
   "cell_type": "code",
   "execution_count": 28,
   "id": "11c52d42",
   "metadata": {},
   "outputs": [],
   "source": [
    "def pred(A2) :\n",
    "    return np.argmax(A2, axis=0)"
   ]
  },
  {
   "cell_type": "code",
   "execution_count": 29,
   "id": "6162370d",
   "metadata": {},
   "outputs": [],
   "source": [
    "def precision(Y_true,Y_pred) :\n",
    "    return np.sum(Y_true == Y_pred)/Y_true.shape[0]"
   ]
  },
  {
   "cell_type": "code",
   "execution_count": 31,
   "id": "74c25985",
   "metadata": {},
   "outputs": [],
   "source": [
    "def grad_descent(X, Y, alpha, nbitr) :\n",
    "    theta1,theta2,b1,b2 = Init_poids()\n",
    "    for i in range(nbitr) :\n",
    "        Z1,Z2,A1,A2 = Forward_propagation(theta1,b1,\n",
    "                                          theta2,b2,X)\n",
    "        d_J_th1, d_J_th2, d_J_b1, d_J_b2 = Backward_propagation(theta1, theta2, A1, A2, Z1, Z2 \n",
    "                             , X, Y)\n",
    "        theta1 = theta1 - alpha * d_J_th1\n",
    "        theta2 = theta2 - alpha * d_J_th2\n",
    "        b1 = b1 - alpha * d_J_b1\n",
    "        b2 = b2 - alpha * d_J_b2\n",
    "        \n",
    "#         print(d_J_th1[0:5,1])\n",
    "#         print(d_J_th2[0:5,1])\n",
    "        \n",
    "#         print(theta1[0:5,1])\n",
    "#         print(theta2[0:5,1])\n",
    "        Y_pred = pred(A2)\n",
    "        prec = precision(Y, Y_pred)\n",
    "        \n",
    "        if i%100 == 0 :\n",
    "            print('precision a l iteration {} = {}'\n",
    "              .format(i,prec))\n",
    "    return theta1, theta2, b1, b2"
   ]
  },
  {
   "cell_type": "code",
   "execution_count": null,
   "id": "9802f828",
   "metadata": {},
   "outputs": [],
   "source": []
  },
  {
   "cell_type": "code",
   "execution_count": 35,
   "id": "cc098886",
   "metadata": {},
   "outputs": [
    {
     "name": "stdout",
     "output_type": "stream",
     "text": [
      "precision a l iteration 0 = 0.091\n",
      "precision a l iteration 100 = 0.701\n",
      "precision a l iteration 200 = 0.816\n",
      "precision a l iteration 300 = 0.866\n",
      "precision a l iteration 400 = 0.905\n",
      "precision a l iteration 500 = 0.922\n",
      "precision a l iteration 600 = 0.934\n",
      "precision a l iteration 700 = 0.948\n",
      "precision a l iteration 800 = 0.959\n",
      "precision a l iteration 900 = 0.972\n",
      "precision a l iteration 1000 = 0.98\n",
      "precision a l iteration 1100 = 0.989\n",
      "precision a l iteration 1200 = 0.994\n",
      "precision a l iteration 1300 = 0.998\n",
      "precision a l iteration 1400 = 0.998\n",
      "precision a l iteration 1500 = 0.998\n",
      "precision a l iteration 1600 = 0.998\n",
      "precision a l iteration 1700 = 0.999\n",
      "precision a l iteration 1800 = 1.0\n",
      "precision a l iteration 1900 = 1.0\n"
     ]
    }
   ],
   "source": [
    "theta1, theta2, b1, b2 = grad_descent(X_train, Y_train, 0.1, 1901)"
   ]
  },
  {
   "cell_type": "code",
   "execution_count": null,
   "id": "f378e487",
   "metadata": {},
   "outputs": [],
   "source": [
    "# def grad_descent_1(X, Y, alpha, nbitr, theta1,theta2,b1,b2) :\n",
    "# #     theta1,theta2,b1,b2 = Init_poids()\n",
    "#     for i in range(nbitr) :\n",
    "#         Z1,Z2,A1,A2 = Forward_propagation(theta1,b1,\n",
    "#                                           theta2,b2,X)\n",
    "#         d_J_th1, d_J_th2, d_J_b1, d_J_b2 = Backward_propagation(theta1, theta2, A1, A2, Z1, Z2 \n",
    "#                              , X, Y)\n",
    "#         theta1 = theta1 - alpha * d_J_th1\n",
    "#         theta2 = theta2 - alpha * d_J_th2\n",
    "#         b1 = b1 - alpha * d_J_b1\n",
    "#         b2 = b2 - alpha * d_J_b2\n",
    "        \n",
    "# #         print(d_J_th1[0:5,1])\n",
    "# #         print(d_J_th2[0:5,1])\n",
    "        \n",
    "# #         print(theta1[0:5,1])\n",
    "# #         print(theta2[0:5,1])\n",
    "#         Y_pred = pred(A2)\n",
    "#         prec = precision(Y, Y_pred)\n",
    "        \n",
    "#         if i%100 == 0 :\n",
    "#             print('precision a l iteration {} = {}'\n",
    "#               .format(i,prec))\n",
    "#     return theta1, theta2, b1, b2"
   ]
  },
  {
   "cell_type": "code",
   "execution_count": null,
   "id": "1c16f935",
   "metadata": {},
   "outputs": [],
   "source": [
    "# grad_descent_1(X_train, Y_train, 0.01, 200, theta1,theta2,b1,b2)  "
   ]
  },
  {
   "cell_type": "code",
   "execution_count": null,
   "id": "b59e4f94",
   "metadata": {},
   "outputs": [],
   "source": []
  }
 ],
 "metadata": {
  "kernelspec": {
   "display_name": "Python 3 (ipykernel)",
   "language": "python",
   "name": "python3"
  },
  "language_info": {
   "codemirror_mode": {
    "name": "ipython",
    "version": 3
   },
   "file_extension": ".py",
   "mimetype": "text/x-python",
   "name": "python",
   "nbconvert_exporter": "python",
   "pygments_lexer": "ipython3",
   "version": "3.9.12"
  }
 },
 "nbformat": 4,
 "nbformat_minor": 5
}
